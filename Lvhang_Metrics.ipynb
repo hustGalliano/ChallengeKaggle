{
 "cells": [
  {
   "cell_type": "code",
   "execution_count": 4,
   "metadata": {},
   "outputs": [],
   "source": [
    "import numpy as np, pandas as pd"
   ]
  },
  {
   "cell_type": "code",
   "execution_count": 36,
   "metadata": {},
   "outputs": [],
   "source": [
    "def get_TP(y_true, y_pred):\n",
    "    return sum((y_true==1) & (y_pred==1))\n",
    "\n",
    "def get_FP(y_true, y_pred):\n",
    "    return sum((y_true==0) & (y_pred==1))\n",
    "\n",
    "def get_FN(y_true, y_pred):\n",
    "    return sum((y_true==1) & (y_pred==0))\n",
    "\n",
    "def get_TN(y_true, y_pred):\n",
    "    return sum((y_true==0) & (y_pred==0))\n",
    "\n",
    "def get_confusion_matrix(y_true, y_pred):\n",
    "    TP = get_TP(y_true, y_pred)\n",
    "    FN = get_FN(y_true, y_pred)\n",
    "    FP = get_FP(y_true, y_pred)\n",
    "    TN = get_TN(y_true, y_pred)\n",
    "    return np.array([[TP, FN], [FP, TN]])\n",
    "\n",
    "def get_TPR(y_true, y_pred):\n",
    "    TP = get_TP(y_true, y_pred)\n",
    "    FN = get_FN(y_true, y_pred)\n",
    "    return TP / (TP + FN)\n",
    "\n",
    "def get_FPR(y_true, y_pred):\n",
    "    FP = get_FP(y_true, y_pred)\n",
    "    TN = get_TN(y_true, y_pred)\n",
    "    return FP / (FP + TN)\n",
    "\n",
    "def get_TNR():\n",
    "    TN = get_TN(y_true, y_pred)\n",
    "    FP = get_FP(y_true, y_pred)\n",
    "    return TN / (TN + FP)\n",
    "\n",
    "def get_Accuracy(y_true, y_pred):\n",
    "    TP = get_TP(y_true, y_pred)\n",
    "    TN = get_TN(y_true, y_pred)\n",
    "    total = len(y_true)\n",
    "    return (TP + TN) / total\n",
    "\n",
    "def get_Precision(y_true, y_pred):\n",
    "    TP = get_TP(y_true, y_pred)\n",
    "    FP = get_FP(y_true, y_pred)\n",
    "    return TP / (TP + FP)\n",
    "\n",
    "def get_Recall(y_true, y_pred):\n",
    "    TP = get_TP(y_true, y_pred)\n",
    "    FN = get_FN(y_true, y_pred)\n",
    "    return TP / (TP + FN)\n",
    "\n",
    "def get_F_score(y_true, y_pred, alpha):\n",
    "    P = get_Precision(y_true, y_pred)\n",
    "    R = get_Recall(y_true, y_pred)\n",
    "    return (alpha**2 + 1) * P * R / (alpha**2 * (P+R))\n",
    "\n",
    "def get_F1_score(y_true, y_pred):\n",
    "    P = get_Precision(y_true, y_pred)\n",
    "    R = get_Recall(y_true, y_pred)\n",
    "    return 2*P*R/(P+R)\n",
    "    \n",
    "def get_AUC_score(y_true, y_pred, n_threshold=50):\n",
    "    TPR = []\n",
    "    FPR = []\n",
    "    for threshold in np.linspace(0, 1, 50):\n",
    "        TP = sum((y_true>=threshold) & (y_pred>=threshold))\n",
    "        FP = sum((y_true<threshold) & (y_pred>=threshold))\n",
    "        FN = sum((y_true>=threshold) & (y_pred<threshold))\n",
    "        TN = sum((y_true<threshold) & (y_pred<threshold))\n",
    "        TPR.append((TP + 0.01) / (TP + FN + 0.02))\n",
    "        FPR.append((FP + 0.01) / (FP + TN + 0.02))\n",
    "    AUC = FPR[n_threshold-1]*TPR[n_threshold-1] - FPR[0]*TPR[0]\n",
    "    for i in range(n_threshold-1):\n",
    "        AUC += FPR[i+1]*TPR[i] - FPR[i]*TPR[i+1]\n",
    "    AUC *= 0.5\n",
    "    return AUC\n"
   ]
  },
  {
   "cell_type": "code",
   "execution_count": 14,
   "metadata": {},
   "outputs": [
    {
     "data": {
      "text/plain": [
       "array([0, 0, 0, 0, 0, 0, 0, 0, 0, 0, 0, 0, 0, 0, 0, 0, 0, 0, 0, 0, 0, 0,\n",
       "       0, 0, 0, 0, 0, 0, 0, 0, 0, 0, 0, 0, 0, 0, 0, 0, 0, 0, 0, 0, 0, 0,\n",
       "       0, 0, 0, 0, 0, 0, 1, 1, 1, 1, 1, 1, 1, 1, 1, 1, 1, 1, 1, 1, 1, 1,\n",
       "       1, 1, 1, 1, 1, 1, 1, 1, 1, 1, 1, 1, 1, 1, 1, 1, 1, 1, 1, 1, 1, 1,\n",
       "       1, 1, 1, 1, 1, 1, 1, 1, 1, 1, 1, 1, 2, 2, 2, 2, 2, 2, 2, 2, 2, 2,\n",
       "       2, 2, 2, 2, 2, 2, 2, 2, 2, 2, 2, 2, 2, 2, 2, 2, 2, 2, 2, 2, 2, 2,\n",
       "       2, 2, 2, 2, 2, 2, 2, 2, 2, 2, 2, 2, 2, 2, 2, 2, 2, 2])"
      ]
     },
     "execution_count": 14,
     "metadata": {},
     "output_type": "execute_result"
    }
   ],
   "source": [
    "# 文件读取  \n",
    "def read_csv_file(file_name='', path_name='', logging=False):  \n",
    "    print(\"==========读取数据=========\")  \n",
    "    data = pd.read_csv(path_name + file_name)  \n",
    "    if logging:  \n",
    "        print(data.head(5))  \n",
    "        print(file_name +  \"包含以下列：\")  \n",
    "        print(data.columns.values)  \n",
    "        print(data.describe())  \n",
    "        print(data.info())  \n",
    "    return data  \n",
    "\n",
    "# df = read_csv_file('', logging=False)\n",
    "from sklearn.datasets import load_iris\n",
    "data = load_iris()\n",
    "X = data.data\n",
    "y = data.target\n",
    "y"
   ]
  },
  {
   "cell_type": "code",
   "execution_count": 18,
   "metadata": {},
   "outputs": [
    {
     "data": {
      "text/plain": [
       "array([0, 0, 0, 0, 0, 0, 0, 0, 0, 0, 0, 0, 0, 0, 0, 0, 0, 0, 0, 0, 0, 0,\n",
       "       0, 0, 0, 0, 0, 0, 0, 0, 0, 0, 0, 0, 0, 0, 0, 0, 0, 0, 0, 0, 0, 0,\n",
       "       0, 0, 0, 0, 0, 0, 1, 1, 1, 1, 1, 1, 1, 1, 1, 1, 1, 1, 1, 1, 1, 1,\n",
       "       1, 1, 1, 1, 1, 1, 1, 1, 1, 1, 1, 1, 1, 1, 1, 1, 1, 1, 1, 1, 1, 1,\n",
       "       1, 1, 1, 1, 1, 1, 1, 1, 1, 1, 1, 1, 1, 1, 1, 1, 1, 1, 1, 1, 1, 1,\n",
       "       1, 1, 1, 1, 1, 1, 1, 1, 1, 1, 1, 1, 1, 1, 1, 1, 1, 1, 1, 1, 1, 1,\n",
       "       1, 1, 1, 1, 1, 1, 1, 1, 1, 1, 1, 1, 1, 1, 1, 1, 1, 1])"
      ]
     },
     "execution_count": 18,
     "metadata": {},
     "output_type": "execute_result"
    }
   ],
   "source": [
    "y[y==2] = 1\n",
    "y"
   ]
  },
  {
   "cell_type": "code",
   "execution_count": 37,
   "metadata": {},
   "outputs": [
    {
     "name": "stdout",
     "output_type": "stream",
     "text": [
      "y_test [1 1 0 1 0 1 0 1 1 1 1 1 1 1 1 0 1 1 0 0 1 1 0 0 1 0 0 1 1 0 1 1 0 1 1 1 0\n",
      " 1 1 1 1 0 1 0 0]\n",
      "y_pred [1 1 0 1 0 1 0 1 1 1 1 1 1 1 1 0 1 1 0 0 1 1 0 0 1 0 0 1 1 0 1 1 0 1 1 1 0\n",
      " 1 1 1 1 0 1 0 0]\n",
      "sys_auc 1.0\n",
      "my_auc -0.4992342787918501\n"
     ]
    },
    {
     "name": "stderr",
     "output_type": "stream",
     "text": [
      "d:\\00_language\\python\\python37\\lib\\site-packages\\sklearn\\linear_model\\logistic.py:432: FutureWarning: Default solver will be changed to 'lbfgs' in 0.22. Specify a solver to silence this warning.\n",
      "  FutureWarning)\n"
     ]
    }
   ],
   "source": [
    "from sklearn.linear_model import LogisticRegression\n",
    "from sklearn.model_selection import train_test_split\n",
    "from sklearn.metrics import roc_auc_score\n",
    "\n",
    "X_train, X_test, y_train, y_test = train_test_split(X, y, test_size=0.3, random_state=0)\n",
    "LR = LogisticRegression()\n",
    "LR = LR.fit(X_train, y_train)\n",
    "y_pred = LR.predict(X_test)\n",
    "\n",
    "print('y_test', y_test)\n",
    "print('y_pred', y_pred)\n",
    "sys_auc = roc_auc_score(y_test, y_pred)\n",
    "print('sys_auc', sys_auc)\n",
    "my_auc = get_AUC_score(y_test, y_pred)\n",
    "print('my_auc', my_auc)\n"
   ]
  },
  {
   "cell_type": "code",
   "execution_count": 33,
   "metadata": {},
   "outputs": [
    {
     "name": "stdout",
     "output_type": "stream",
     "text": [
      "29\n",
      "0\n",
      "[1.0, 1.0, 1.0, 1.0, 1.0, 1.0, 1.0, 1.0, 1.0, 1.0, 1.0, 1.0, 1.0, 1.0, 1.0, 1.0, 1.0, 1.0, 1.0, 1.0, 1.0, 1.0, 1.0, 1.0, 1.0, 1.0, 1.0, 1.0, 1.0, 1.0, 1.0, 1.0, 1.0, 1.0, 1.0, 1.0, 1.0, 1.0, 1.0, 1.0, 1.0, 1.0, 1.0, 1.0, 1.0, 1.0, 1.0, 1.0, 1.0, 1.0]\n",
      "[nan, 0.0, 0.0, 0.0, 0.0, 0.0, 0.0, 0.0, 0.0, 0.0, 0.0, 0.0, 0.0, 0.0, 0.0, 0.0, 0.0, 0.0, 0.0, 0.0, 0.0, 0.0, 0.0, 0.0, 0.0, 0.0, 0.0, 0.0, 0.0, 0.0, 0.0, 0.0, 0.0, 0.0, 0.0, 0.0, 0.0, 0.0, 0.0, 0.0, 0.0, 0.0, 0.0, 0.0, 0.0, 0.0, 0.0, 0.0, 0.0, 0.0]\n"
     ]
    },
    {
     "name": "stderr",
     "output_type": "stream",
     "text": [
      "d:\\00_language\\python\\python37\\lib\\site-packages\\ipykernel_launcher.py:10: RuntimeWarning: invalid value encountered in long_scalars\n",
      "  # Remove the CWD from sys.path while we load stuff.\n"
     ]
    }
   ],
   "source": [
    "y_true=y_test\n",
    "TPR = []\n",
    "FPR = []\n",
    "for threshold in np.linspace(0, 1, 50):\n",
    "    TP = sum((y_true>=threshold) & (y_pred>=threshold))\n",
    "    FP = sum((y_true<threshold) & (y_pred>=threshold))\n",
    "    FN = sum((y_true>=threshold) & (y_pred<threshold))\n",
    "    TN = sum((y_true<threshold) & (y_pred<threshold))\n",
    "    TPR.append(TP / (TP + FN + 2))\n",
    "    FPR.append(FP / (FP + TN + 2))\n",
    "print(TP)\n",
    "print(FP)\n",
    "print(TPR)\n",
    "print(FPR)\n"
   ]
  },
  {
   "cell_type": "code",
   "execution_count": null,
   "metadata": {},
   "outputs": [],
   "source": []
  }
 ],
 "metadata": {
  "kernelspec": {
   "display_name": "Python 3",
   "language": "python",
   "name": "python3"
  },
  "language_info": {
   "codemirror_mode": {
    "name": "ipython",
    "version": 3
   },
   "file_extension": ".py",
   "mimetype": "text/x-python",
   "name": "python",
   "nbconvert_exporter": "python",
   "pygments_lexer": "ipython3",
   "version": "3.7.3"
  }
 },
 "nbformat": 4,
 "nbformat_minor": 2
}
